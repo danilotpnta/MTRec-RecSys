{
 "cells": [
  {
   "cell_type": "markdown",
   "metadata": {},
   "source": [
    "# Getting started with the EB-NeRD"
   ]
  },
  {
   "cell_type": "code",
   "execution_count": 76,
   "metadata": {},
   "outputs": [],
   "source": [
    "from pathlib import Path\n",
    "import polars as pl\n",
    "\n",
    "from ebrec.utils._descriptive_analysis import (\n",
    "    min_max_impression_time_behaviors, \n",
    "    min_max_impression_time_history\n",
    ")\n",
    "from ebrec.utils._polars import slice_join_dataframes\n",
    "from ebrec.utils._behaviors import (\n",
    "    create_binary_labels_column,\n",
    "    sampling_strategy_wu2019,\n",
    "    truncate_history,\n",
    ")\n",
    "from ebrec.utils._constants import (\n",
    "    DEFAULT_HISTORY_ARTICLE_ID_COL,\n",
    "    DEFAULT_CLICKED_ARTICLES_COL,\n",
    "    DEFAULT_INVIEW_ARTICLES_COL,\n",
    "    DEFAULT_USER_COL,\n",
    "    DEFAULT_HISTORY_IMPRESSION_TIMESTAMP_COL\n",
    ")"
   ]
  },
  {
   "cell_type": "markdown",
   "metadata": {},
   "source": [
    "## Load dataset:"
   ]
  },
  {
   "cell_type": "code",
   "execution_count": 53,
   "metadata": {},
   "outputs": [],
   "source": [
    "PATH = Path(\"../dataset/data/ebnerd_demo\")\n",
    "data_split = \"train\""
   ]
  },
  {
   "cell_type": "code",
   "execution_count": 90,
   "metadata": {},
   "outputs": [
    {
     "data": {
      "text/html": [
       "<div><style>\n",
       ".dataframe > thead > tr,\n",
       ".dataframe > tbody > tr {\n",
       "  text-align: right;\n",
       "  white-space: pre-wrap;\n",
       "}\n",
       "</style>\n",
       "<small>shape: (5, 5)</small><table border=\"1\" class=\"dataframe\"><thead><tr><th>user_id</th><th>impression_time_fixed</th><th>scroll_percentage_fixed</th><th>article_id_fixed</th><th>read_time_fixed</th></tr><tr><td>u32</td><td>list[datetime[μs]]</td><td>list[f32]</td><td>list[i32]</td><td>list[f32]</td></tr></thead><tbody><tr><td>13538</td><td>[2023-04-27 10:17:43, 2023-04-27 10:18:01, … 2023-05-17 20:36:34]</td><td>[100.0, 35.0, … 100.0]</td><td>[9738663, 9738569, … 9769366]</td><td>[17.0, 12.0, … 16.0]</td></tr><tr><td>58608</td><td>[2023-04-27 18:48:09, 2023-04-27 18:48:45, … 2023-05-17 19:46:40]</td><td>[37.0, 61.0, … null]</td><td>[9739362, 9739179, … 9770333]</td><td>[2.0, 24.0, … 0.0]</td></tr><tr><td>95507</td><td>[2023-04-27 15:20:28, 2023-04-27 15:20:47, … 2023-05-17 14:57:46]</td><td>[60.0, 100.0, … null]</td><td>[9739035, 9738646, … 9769450]</td><td>[18.0, 29.0, … 0.0]</td></tr><tr><td>106588</td><td>[2023-04-27 08:29:09, 2023-04-27 08:29:26, … 2023-05-16 05:50:52]</td><td>[24.0, 57.0, … 100.0]</td><td>[9738292, 9738216, … 9747803]</td><td>[9.0, 15.0, … 33.0]</td></tr><tr><td>617963</td><td>[2023-04-27 14:42:25, 2023-04-27 14:43:10, … 2023-05-18 02:28:09]</td><td>[100.0, 100.0, … 90.0]</td><td>[9739035, 9739088, … 9770798]</td><td>[45.0, 29.0, … 22.0]</td></tr></tbody></table></div>"
      ],
      "text/plain": [
       "shape: (5, 5)\n",
       "┌─────────┬──────────────────────┬─────────────────────┬─────────────────────┬─────────────────────┐\n",
       "│ user_id ┆ impression_time_fixe ┆ scroll_percentage_f ┆ article_id_fixed    ┆ read_time_fixed     │\n",
       "│ ---     ┆ d                    ┆ ixed                ┆ ---                 ┆ ---                 │\n",
       "│ u32     ┆ ---                  ┆ ---                 ┆ list[i32]           ┆ list[f32]           │\n",
       "│         ┆ list[datetime[μs]]   ┆ list[f32]           ┆                     ┆                     │\n",
       "╞═════════╪══════════════════════╪═════════════════════╪═════════════════════╪═════════════════════╡\n",
       "│ 13538   ┆ [2023-04-27          ┆ [100.0, 35.0, …     ┆ [9738663, 9738569,  ┆ [17.0, 12.0, …      │\n",
       "│         ┆ 10:17:43,            ┆ 100.0]              ┆ … 9769366]          ┆ 16.0]               │\n",
       "│         ┆ 2023-04-27…          ┆                     ┆                     ┆                     │\n",
       "│ 58608   ┆ [2023-04-27          ┆ [37.0, 61.0, …      ┆ [9739362, 9739179,  ┆ [2.0, 24.0, … 0.0]  │\n",
       "│         ┆ 18:48:09,            ┆ null]               ┆ … 9770333]          ┆                     │\n",
       "│         ┆ 2023-04-27…          ┆                     ┆                     ┆                     │\n",
       "│ 95507   ┆ [2023-04-27          ┆ [60.0, 100.0, …     ┆ [9739035, 9738646,  ┆ [18.0, 29.0, … 0.0] │\n",
       "│         ┆ 15:20:28,            ┆ null]               ┆ … 9769450]          ┆                     │\n",
       "│         ┆ 2023-04-27…          ┆                     ┆                     ┆                     │\n",
       "│ 106588  ┆ [2023-04-27          ┆ [24.0, 57.0, …      ┆ [9738292, 9738216,  ┆ [9.0, 15.0, … 33.0] │\n",
       "│         ┆ 08:29:09,            ┆ 100.0]              ┆ … 9747803]          ┆                     │\n",
       "│         ┆ 2023-04-27…          ┆                     ┆                     ┆                     │\n",
       "│ 617963  ┆ [2023-04-27          ┆ [100.0, 100.0, …    ┆ [9739035, 9739088,  ┆ [45.0, 29.0, …      │\n",
       "│         ┆ 14:42:25,            ┆ 90.0]               ┆ … 9770798]          ┆ 22.0]               │\n",
       "│         ┆ 2023-04-27…          ┆                     ┆                     ┆                     │\n",
       "└─────────┴──────────────────────┴─────────────────────┴─────────────────────┴─────────────────────┘"
      ]
     },
     "metadata": {},
     "output_type": "display_data"
    },
    {
     "data": {
      "text/html": [
       "<div><style>\n",
       ".dataframe > thead > tr,\n",
       ".dataframe > tbody > tr {\n",
       "  text-align: right;\n",
       "  white-space: pre-wrap;\n",
       "}\n",
       "</style>\n",
       "<small>shape: (5, 17)</small><table border=\"1\" class=\"dataframe\"><thead><tr><th>impression_id</th><th>article_id</th><th>impression_time</th><th>read_time</th><th>scroll_percentage</th><th>device_type</th><th>article_ids_inview</th><th>article_ids_clicked</th><th>user_id</th><th>is_sso_user</th><th>gender</th><th>postcode</th><th>age</th><th>is_subscriber</th><th>session_id</th><th>next_read_time</th><th>next_scroll_percentage</th></tr><tr><td>u32</td><td>i32</td><td>datetime[μs]</td><td>f32</td><td>f32</td><td>i8</td><td>list[i32]</td><td>list[i32]</td><td>u32</td><td>bool</td><td>i8</td><td>i8</td><td>i8</td><td>bool</td><td>u32</td><td>f32</td><td>f32</td></tr></thead><tbody><tr><td>48401</td><td>null</td><td>2023-05-21 21:06:50</td><td>21.0</td><td>null</td><td>2</td><td>[9774516, 9771051, … 9759966]</td><td>[9759966]</td><td>22779</td><td>false</td><td>null</td><td>null</td><td>null</td><td>false</td><td>21</td><td>16.0</td><td>27.0</td></tr><tr><td>152513</td><td>9778745</td><td>2023-05-24 07:31:26</td><td>30.0</td><td>100.0</td><td>1</td><td>[9778669, 9778736, … 9777397]</td><td>[9778661]</td><td>150224</td><td>false</td><td>null</td><td>null</td><td>null</td><td>false</td><td>298</td><td>2.0</td><td>48.0</td></tr><tr><td>155390</td><td>null</td><td>2023-05-24 07:30:33</td><td>45.0</td><td>null</td><td>1</td><td>[9778369, 9777856, … 9778448]</td><td>[9777856]</td><td>160892</td><td>false</td><td>null</td><td>null</td><td>null</td><td>false</td><td>401</td><td>215.0</td><td>100.0</td></tr><tr><td>214679</td><td>null</td><td>2023-05-23 05:25:40</td><td>33.0</td><td>null</td><td>2</td><td>[9776715, 9776406, … 9776855]</td><td>[9776566]</td><td>1001055</td><td>false</td><td>null</td><td>null</td><td>null</td><td>false</td><td>1357</td><td>40.0</td><td>47.0</td></tr><tr><td>214681</td><td>null</td><td>2023-05-23 05:31:54</td><td>21.0</td><td>null</td><td>2</td><td>[9775202, 9776855, … 9776570]</td><td>[9776553]</td><td>1001055</td><td>false</td><td>null</td><td>null</td><td>null</td><td>false</td><td>1358</td><td>5.0</td><td>49.0</td></tr></tbody></table></div>"
      ],
      "text/plain": [
       "shape: (5, 17)\n",
       "┌───────────┬───────────┬───────────┬───────────┬───┬───────────┬───────────┬───────────┬──────────┐\n",
       "│ impressio ┆ article_i ┆ impressio ┆ read_time ┆ … ┆ is_subscr ┆ session_i ┆ next_read ┆ next_scr │\n",
       "│ n_id      ┆ d         ┆ n_time    ┆ ---       ┆   ┆ iber      ┆ d         ┆ _time     ┆ oll_perc │\n",
       "│ ---       ┆ ---       ┆ ---       ┆ f32       ┆   ┆ ---       ┆ ---       ┆ ---       ┆ entage   │\n",
       "│ u32       ┆ i32       ┆ datetime[ ┆           ┆   ┆ bool      ┆ u32       ┆ f32       ┆ ---      │\n",
       "│           ┆           ┆ μs]       ┆           ┆   ┆           ┆           ┆           ┆ f32      │\n",
       "╞═══════════╪═══════════╪═══════════╪═══════════╪═══╪═══════════╪═══════════╪═══════════╪══════════╡\n",
       "│ 48401     ┆ null      ┆ 2023-05-2 ┆ 21.0      ┆ … ┆ false     ┆ 21        ┆ 16.0      ┆ 27.0     │\n",
       "│           ┆           ┆ 1         ┆           ┆   ┆           ┆           ┆           ┆          │\n",
       "│           ┆           ┆ 21:06:50  ┆           ┆   ┆           ┆           ┆           ┆          │\n",
       "│ 152513    ┆ 9778745   ┆ 2023-05-2 ┆ 30.0      ┆ … ┆ false     ┆ 298       ┆ 2.0       ┆ 48.0     │\n",
       "│           ┆           ┆ 4         ┆           ┆   ┆           ┆           ┆           ┆          │\n",
       "│           ┆           ┆ 07:31:26  ┆           ┆   ┆           ┆           ┆           ┆          │\n",
       "│ 155390    ┆ null      ┆ 2023-05-2 ┆ 45.0      ┆ … ┆ false     ┆ 401       ┆ 215.0     ┆ 100.0    │\n",
       "│           ┆           ┆ 4         ┆           ┆   ┆           ┆           ┆           ┆          │\n",
       "│           ┆           ┆ 07:30:33  ┆           ┆   ┆           ┆           ┆           ┆          │\n",
       "│ 214679    ┆ null      ┆ 2023-05-2 ┆ 33.0      ┆ … ┆ false     ┆ 1357      ┆ 40.0      ┆ 47.0     │\n",
       "│           ┆           ┆ 3         ┆           ┆   ┆           ┆           ┆           ┆          │\n",
       "│           ┆           ┆ 05:25:40  ┆           ┆   ┆           ┆           ┆           ┆          │\n",
       "│ 214681    ┆ null      ┆ 2023-05-2 ┆ 21.0      ┆ … ┆ false     ┆ 1358      ┆ 5.0       ┆ 49.0     │\n",
       "│           ┆           ┆ 3         ┆           ┆   ┆           ┆           ┆           ┆          │\n",
       "│           ┆           ┆ 05:31:54  ┆           ┆   ┆           ┆           ┆           ┆          │\n",
       "└───────────┴───────────┴───────────┴───────────┴───┴───────────┴───────────┴───────────┴──────────┘"
      ]
     },
     "metadata": {},
     "output_type": "display_data"
    }
   ],
   "source": [
    "df_behaviors = pl.scan_parquet(PATH.joinpath(data_split, \"behaviors.parquet\"))\n",
    "df_history = pl.scan_parquet(PATH.joinpath(data_split, \"history.parquet\"))\n",
    "display(df_history.collect().head())\n",
    "display(df_behaviors.collect().head())"
   ]
  },
  {
   "cell_type": "markdown",
   "metadata": {},
   "source": [
    "### Check min/max time-stamps in the data-split period"
   ]
  },
  {
   "cell_type": "code",
   "execution_count": 80,
   "metadata": {},
   "outputs": [
    {
     "name": "stdout",
     "output_type": "stream",
     "text": [
      "History: shape: (1, 2)\n",
      "┌─────────────────────┬─────────────────────┐\n",
      "│ min                 ┆ max                 │\n",
      "│ ---                 ┆ ---                 │\n",
      "│ datetime[μs]        ┆ datetime[μs]        │\n",
      "╞═════════════════════╪═════════════════════╡\n",
      "│ 2023-04-27 07:00:05 ┆ 2023-05-18 06:59:51 │\n",
      "└─────────────────────┴─────────────────────┘\n",
      "Behaviors: shape: (1, 2)\n",
      "┌─────────────────────┬─────────────────────┐\n",
      "│ min                 ┆ max                 │\n",
      "│ ---                 ┆ ---                 │\n",
      "│ datetime[μs]        ┆ datetime[μs]        │\n",
      "╞═════════════════════╪═════════════════════╡\n",
      "│ 2023-05-18 07:00:03 ┆ 2023-05-25 06:59:52 │\n",
      "└─────────────────────┴─────────────────────┘\n"
     ]
    }
   ],
   "source": [
    "print(f\"History: {min_max_impression_time_history(df_history).collect()}\")\n",
    "print(f\"Behaviors: {min_max_impression_time_behaviors(df_behaviors).collect()}\")"
   ]
  },
  {
   "cell_type": "markdown",
   "metadata": {},
   "source": [
    "## Add History to Behaviors"
   ]
  },
  {
   "cell_type": "code",
   "execution_count": 84,
   "metadata": {},
   "outputs": [
    {
     "data": {
      "text/html": [
       "<div><style>\n",
       ".dataframe > thead > tr,\n",
       ".dataframe > tbody > tr {\n",
       "  text-align: right;\n",
       "  white-space: pre-wrap;\n",
       "}\n",
       "</style>\n",
       "<small>shape: (5, 2)</small><table border=\"1\" class=\"dataframe\"><thead><tr><th>user_id</th><th>article_id_fixed</th></tr><tr><td>u32</td><td>list[i32]</td></tr></thead><tbody><tr><td>13538</td><td>[9767342, 9767751, … 9769366]</td></tr><tr><td>58608</td><td>[9763090, 9765545, … 9770333]</td></tr><tr><td>95507</td><td>[9768802, 9768583, … 9769450]</td></tr><tr><td>106588</td><td>[9751531, 9751633, … 9747803]</td></tr><tr><td>617963</td><td>[9765410, 9759300, … 9770798]</td></tr></tbody></table></div>"
      ],
      "text/plain": [
       "shape: (5, 2)\n",
       "┌─────────┬───────────────────────────────┐\n",
       "│ user_id ┆ article_id_fixed              │\n",
       "│ ---     ┆ ---                           │\n",
       "│ u32     ┆ list[i32]                     │\n",
       "╞═════════╪═══════════════════════════════╡\n",
       "│ 13538   ┆ [9767342, 9767751, … 9769366] │\n",
       "│ 58608   ┆ [9763090, 9765545, … 9770333] │\n",
       "│ 95507   ┆ [9768802, 9768583, … 9769450] │\n",
       "│ 106588  ┆ [9751531, 9751633, … 9747803] │\n",
       "│ 617963  ┆ [9765410, 9759300, … 9770798] │\n",
       "└─────────┴───────────────────────────────┘"
      ]
     },
     "execution_count": 84,
     "metadata": {},
     "output_type": "execute_result"
    }
   ],
   "source": [
    "df_history = df_history.select(DEFAULT_USER_COL, DEFAULT_HISTORY_ARTICLE_ID_COL).pipe(\n",
    "    truncate_history,\n",
    "    column=DEFAULT_HISTORY_ARTICLE_ID_COL,\n",
    "    history_size=30,\n",
    "    padding_value=0,\n",
    "    enable_warning=False,\n",
    ")\n",
    "df_history.head(5).collect()"
   ]
  },
  {
   "cell_type": "code",
   "execution_count": 87,
   "metadata": {},
   "outputs": [
    {
     "data": {
      "text/html": [
       "<div><style>\n",
       ".dataframe > thead > tr,\n",
       ".dataframe > tbody > tr {\n",
       "  text-align: right;\n",
       "  white-space: pre-wrap;\n",
       "}\n",
       "</style>\n",
       "<small>shape: (1_590, 2)</small><table border=\"1\" class=\"dataframe\"><thead><tr><th>user_id</th><th>article_id_fixed</th></tr><tr><td>u32</td><td>list[i32]</td></tr></thead><tbody><tr><td>13538</td><td>[9767342, 9767751, … 9769366]</td></tr><tr><td>58608</td><td>[9763090, 9765545, … 9770333]</td></tr><tr><td>95507</td><td>[9768802, 9768583, … 9769450]</td></tr><tr><td>106588</td><td>[9751531, 9751633, … 9747803]</td></tr><tr><td>617963</td><td>[9765410, 9759300, … 9770798]</td></tr><tr><td>750497</td><td>[9746360, 9767746, … 9769244]</td></tr><tr><td>854388</td><td>[9767233, 9766242, … 9768260]</td></tr><tr><td>119480</td><td>[0, 0, … 9747684]</td></tr><tr><td>160892</td><td>[9759345, 9766042, … 9770178]</td></tr><tr><td>168638</td><td>[9769909, 9769743, … 9768321]</td></tr><tr><td>171559</td><td>[9728452, 9767426, … 9769622]</td></tr><tr><td>189524</td><td>[9767342, 9767948, … 9770989]</td></tr><tr><td>&hellip;</td><td>&hellip;</td></tr><tr><td>809655</td><td>[0, 0, … 9749677]</td></tr><tr><td>1499132</td><td>[0, 0, … 9754915]</td></tr><tr><td>1558309</td><td>[0, 0, … 9769679]</td></tr><tr><td>2174590</td><td>[0, 0, … 9761391]</td></tr><tr><td>117602</td><td>[0, 0, … 9770333]</td></tr><tr><td>120632</td><td>[0, 0, … 9769650]</td></tr><tr><td>387862</td><td>[0, 0, … 9734834]</td></tr><tr><td>1122370</td><td>[0, 0, … 9755571]</td></tr><tr><td>1718049</td><td>[0, 0, … 9769941]</td></tr><tr><td>1178033</td><td>[0, 0, … 9751531]</td></tr><tr><td>395912</td><td>[0, 0, … 9760935]</td></tr><tr><td>2539047</td><td>[0, 0, … 9755980]</td></tr></tbody></table></div>"
      ],
      "text/plain": [
       "shape: (1_590, 2)\n",
       "┌─────────┬───────────────────────────────┐\n",
       "│ user_id ┆ article_id_fixed              │\n",
       "│ ---     ┆ ---                           │\n",
       "│ u32     ┆ list[i32]                     │\n",
       "╞═════════╪═══════════════════════════════╡\n",
       "│ 13538   ┆ [9767342, 9767751, … 9769366] │\n",
       "│ 58608   ┆ [9763090, 9765545, … 9770333] │\n",
       "│ 95507   ┆ [9768802, 9768583, … 9769450] │\n",
       "│ 106588  ┆ [9751531, 9751633, … 9747803] │\n",
       "│ 617963  ┆ [9765410, 9759300, … 9770798] │\n",
       "│ …       ┆ …                             │\n",
       "│ 1122370 ┆ [0, 0, … 9755571]             │\n",
       "│ 1718049 ┆ [0, 0, … 9769941]             │\n",
       "│ 1178033 ┆ [0, 0, … 9751531]             │\n",
       "│ 395912  ┆ [0, 0, … 9760935]             │\n",
       "│ 2539047 ┆ [0, 0, … 9755980]             │\n",
       "└─────────┴───────────────────────────────┘"
      ]
     },
     "execution_count": 87,
     "metadata": {},
     "output_type": "execute_result"
    }
   ],
   "source": [
    "df_history.collect()"
   ]
  },
  {
   "cell_type": "code",
   "execution_count": 83,
   "metadata": {},
   "outputs": [
    {
     "data": {
      "text/html": [
       "<div><style>\n",
       ".dataframe > thead > tr,\n",
       ".dataframe > tbody > tr {\n",
       "  text-align: right;\n",
       "  white-space: pre-wrap;\n",
       "}\n",
       "</style>\n",
       "<small>shape: (24_724, 21)</small><table border=\"1\" class=\"dataframe\"><thead><tr><th>impression_id</th><th>article_id</th><th>impression_time</th><th>read_time</th><th>scroll_percentage</th><th>device_type</th><th>article_ids_inview</th><th>article_ids_clicked</th><th>user_id</th><th>is_sso_user</th><th>gender</th><th>postcode</th><th>age</th><th>is_subscriber</th><th>session_id</th><th>next_read_time</th><th>next_scroll_percentage</th><th>impression_time_fixed</th><th>scroll_percentage_fixed</th><th>article_id_fixed</th><th>read_time_fixed</th></tr><tr><td>u32</td><td>i32</td><td>datetime[μs]</td><td>f32</td><td>f32</td><td>i8</td><td>list[i32]</td><td>list[i32]</td><td>u32</td><td>bool</td><td>i8</td><td>i8</td><td>i8</td><td>bool</td><td>u32</td><td>f32</td><td>f32</td><td>list[datetime[μs]]</td><td>list[f32]</td><td>list[i32]</td><td>list[f32]</td></tr></thead><tbody><tr><td>48401</td><td>null</td><td>2023-05-21 21:06:50</td><td>21.0</td><td>null</td><td>2</td><td>[9774516, 9771051, … 9759966]</td><td>[9759966]</td><td>22779</td><td>false</td><td>null</td><td>null</td><td>null</td><td>false</td><td>21</td><td>16.0</td><td>27.0</td><td>[2023-04-27 09:05:54, 2023-04-27 09:06:09, … 2023-05-18 06:26:39]</td><td>[28.0, 17.0, … 15.0]</td><td>[9738452, 9737521, … 9770541]</td><td>[5.0, 4.0, … 7.0]</td></tr><tr><td>152513</td><td>9778745</td><td>2023-05-24 07:31:26</td><td>30.0</td><td>100.0</td><td>1</td><td>[9778669, 9778736, … 9777397]</td><td>[9778661]</td><td>150224</td><td>false</td><td>null</td><td>null</td><td>null</td><td>false</td><td>298</td><td>2.0</td><td>48.0</td><td>[2023-04-29 11:34:06, 2023-04-29 11:34:25, … 2023-05-18 06:13:47]</td><td>[100.0, 49.0, … 24.0]</td><td>[9740087, 9741986, … 9735909]</td><td>[18.0, 244.0, … 7.0]</td></tr><tr><td>155390</td><td>null</td><td>2023-05-24 07:30:33</td><td>45.0</td><td>null</td><td>1</td><td>[9778369, 9777856, … 9778448]</td><td>[9777856]</td><td>160892</td><td>false</td><td>null</td><td>null</td><td>null</td><td>false</td><td>401</td><td>215.0</td><td>100.0</td><td>[2023-04-27 09:10:33, 2023-04-27 09:20:25, … 2023-05-17 15:51:19]</td><td>[100.0, 20.0, … 100.0]</td><td>[9738557, 9738211, … 9770178]</td><td>[583.0, 257.0, … 158.0]</td></tr><tr><td>214679</td><td>null</td><td>2023-05-23 05:25:40</td><td>33.0</td><td>null</td><td>2</td><td>[9776715, 9776406, … 9776855]</td><td>[9776566]</td><td>1001055</td><td>false</td><td>null</td><td>null</td><td>null</td><td>false</td><td>1357</td><td>40.0</td><td>47.0</td><td>[2023-04-27 12:12:45, 2023-04-27 12:13:30, … 2023-05-18 05:31:44]</td><td>[100.0, 100.0, … 28.0]</td><td>[9738777, 9738663, … 9769981]</td><td>[35.0, 62.0, … 16.0]</td></tr><tr><td>214681</td><td>null</td><td>2023-05-23 05:31:54</td><td>21.0</td><td>null</td><td>2</td><td>[9775202, 9776855, … 9776570]</td><td>[9776553]</td><td>1001055</td><td>false</td><td>null</td><td>null</td><td>null</td><td>false</td><td>1358</td><td>5.0</td><td>49.0</td><td>[2023-04-27 12:12:45, 2023-04-27 12:13:30, … 2023-05-18 05:31:44]</td><td>[100.0, 100.0, … 28.0]</td><td>[9738777, 9738663, … 9769981]</td><td>[35.0, 62.0, … 16.0]</td></tr><tr><td>214684</td><td>null</td><td>2023-05-23 05:32:21</td><td>10.0</td><td>null</td><td>2</td><td>[9776508, 9767490, … 9774840]</td><td>[9776508]</td><td>1001055</td><td>false</td><td>null</td><td>null</td><td>null</td><td>false</td><td>1358</td><td>52.0</td><td>100.0</td><td>[2023-04-27 12:12:45, 2023-04-27 12:13:30, … 2023-05-18 05:31:44]</td><td>[100.0, 100.0, … 28.0]</td><td>[9738777, 9738663, … 9769981]</td><td>[35.0, 62.0, … 16.0]</td></tr><tr><td>214691</td><td>null</td><td>2023-05-23 05:30:46</td><td>18.0</td><td>null</td><td>2</td><td>[9759955, 9776449, … 9775985]</td><td>[9776691]</td><td>1001055</td><td>false</td><td>null</td><td>null</td><td>null</td><td>false</td><td>1358</td><td>4.0</td><td>37.0</td><td>[2023-04-27 12:12:45, 2023-04-27 12:13:30, … 2023-05-18 05:31:44]</td><td>[100.0, 100.0, … 28.0]</td><td>[9738777, 9738663, … 9769981]</td><td>[35.0, 62.0, … 16.0]</td></tr><tr><td>369958</td><td>null</td><td>2023-05-24 14:25:56</td><td>16.0</td><td>null</td><td>2</td><td>[9776023, 9778158, … 7594265]</td><td>[9778158]</td><td>1469458</td><td>false</td><td>null</td><td>null</td><td>null</td><td>false</td><td>1623</td><td>0.0</td><td>null</td><td>[2023-04-27 12:37:50, 2023-04-27 18:59:49, … 2023-05-14 19:05:18]</td><td>[null, null, … 67.0]</td><td>[9738452, 9739344, … 9764765]</td><td>[3.0, 0.0, … 8.0]</td></tr><tr><td>369959</td><td>null</td><td>2023-05-24 14:23:14</td><td>161.0</td><td>null</td><td>2</td><td>[9779186, 9779289, … 9779071]</td><td>[9779071]</td><td>1469458</td><td>false</td><td>null</td><td>null</td><td>null</td><td>false</td><td>1623</td><td>16.0</td><td>null</td><td>[2023-04-27 12:37:50, 2023-04-27 18:59:49, … 2023-05-14 19:05:18]</td><td>[null, null, … 67.0]</td><td>[9738452, 9739344, … 9764765]</td><td>[3.0, 0.0, … 8.0]</td></tr><tr><td>370414</td><td>null</td><td>2023-05-24 14:48:54</td><td>9.0</td><td>null</td><td>2</td><td>[9779408, 9779377, … 9779007]</td><td>[9777182]</td><td>1470585</td><td>false</td><td>null</td><td>null</td><td>null</td><td>false</td><td>1678</td><td>13.0</td><td>41.0</td><td>[2023-04-27 10:23:31, 2023-04-27 10:43:15, … 2023-05-17 20:48:39]</td><td>[null, 44.0, … 33.0]</td><td>[9695098, 9738355, … 9769404]</td><td>[0.0, 19.0, … 4.0]</td></tr><tr><td>371838</td><td>null</td><td>2023-05-24 14:23:00</td><td>108.0</td><td>null</td><td>2</td><td>[9778915, 9779186, … 9779285]</td><td>[9778645]</td><td>1473460</td><td>false</td><td>null</td><td>null</td><td>null</td><td>false</td><td>2015</td><td>1270.0</td><td>29.0</td><td>[2023-04-27 07:30:12, 2023-04-27 10:13:40, … 2023-05-17 22:32:59]</td><td>[null, 59.0, … 100.0]</td><td>[9738193, 9738193, … 9769917]</td><td>[0.0, 0.0, … 16.0]</td></tr><tr><td>374777</td><td>9779289</td><td>2023-05-24 14:15:08</td><td>12.0</td><td>100.0</td><td>2</td><td>[9779285, 9779289, … 9775621]</td><td>[9777182]</td><td>1479813</td><td>false</td><td>null</td><td>null</td><td>null</td><td>false</td><td>2470</td><td>11.0</td><td>null</td><td>[2023-04-29 17:11:53, 2023-04-29 17:12:08, … 2023-05-17 21:42:50]</td><td>[50.0, null, … 100.0]</td><td>[9742161, 9742268, … 9769981]</td><td>[6.0, 176.0, … 89.0]</td></tr><tr><td>&hellip;</td><td>&hellip;</td><td>&hellip;</td><td>&hellip;</td><td>&hellip;</td><td>&hellip;</td><td>&hellip;</td><td>&hellip;</td><td>&hellip;</td><td>&hellip;</td><td>&hellip;</td><td>&hellip;</td><td>&hellip;</td><td>&hellip;</td><td>&hellip;</td><td>&hellip;</td><td>&hellip;</td><td>&hellip;</td><td>&hellip;</td><td>&hellip;</td><td>&hellip;</td></tr><tr><td>579704741</td><td>null</td><td>2023-05-21 18:01:30</td><td>54.0</td><td>null</td><td>2</td><td>[9774020, 9757574, … 9774764]</td><td>[9774923]</td><td>1158222</td><td>false</td><td>null</td><td>null</td><td>null</td><td>false</td><td>68836</td><td>70.0</td><td>100.0</td><td>[2023-04-27 10:31:36, 2023-04-27 10:34:37, … 2023-05-18 04:58:36]</td><td>[64.0, 71.0, … null]</td><td>[9738663, 9738569, … 9769469]</td><td>[175.0, 47.0, … 0.0]</td></tr><tr><td>579704743</td><td>null</td><td>2023-05-21 18:03:36</td><td>45.0</td><td>null</td><td>2</td><td>[9769624, 9732528, … 9774706]</td><td>[9774015]</td><td>1158222</td><td>false</td><td>null</td><td>null</td><td>null</td><td>false</td><td>68836</td><td>120.0</td><td>100.0</td><td>[2023-04-27 10:31:36, 2023-04-27 10:34:37, … 2023-05-18 04:58:36]</td><td>[64.0, 71.0, … null]</td><td>[9738663, 9738569, … 9769469]</td><td>[175.0, 47.0, … 0.0]</td></tr><tr><td>579750708</td><td>null</td><td>2023-05-24 11:36:18</td><td>12.0</td><td>null</td><td>3</td><td>[9778813, 9778645, … 9778710]</td><td>[9778813]</td><td>413278</td><td>false</td><td>null</td><td>null</td><td>null</td><td>false</td><td>163791</td><td>59.0</td><td>100.0</td><td>[2023-04-27 07:14:23, 2023-04-27 07:14:27, … 2023-05-17 06:22:35]</td><td>[100.0, 100.0, … 100.0]</td><td>[9738193, 9738216, … 9768583]</td><td>[4.0, 26.0, … 54.0]</td></tr><tr><td>579750709</td><td>9778915</td><td>2023-05-24 11:37:30</td><td>45.0</td><td>100.0</td><td>3</td><td>[9778158, 9778769, … 9776259]</td><td>[9778710]</td><td>413278</td><td>false</td><td>null</td><td>null</td><td>null</td><td>false</td><td>163791</td><td>29.0</td><td>100.0</td><td>[2023-04-27 07:14:23, 2023-04-27 07:14:27, … 2023-05-17 06:22:35]</td><td>[100.0, 100.0, … 100.0]</td><td>[9738193, 9738216, … 9768583]</td><td>[4.0, 26.0, … 54.0]</td></tr><tr><td>579756927</td><td>9778710</td><td>2023-05-24 11:26:34</td><td>27.0</td><td>100.0</td><td>1</td><td>[9663605, 9696204, … 9661024]</td><td>[9696204]</td><td>438300</td><td>false</td><td>null</td><td>null</td><td>null</td><td>false</td><td>167138</td><td>5.0</td><td>41.0</td><td>[2023-04-27 10:52:22, 2023-04-27 10:52:27, … 2023-05-17 21:56:43]</td><td>[35.0, 100.0, … 100.0]</td><td>[9738663, 9738746, … 9770594]</td><td>[2.0, 8.0, … 19.0]</td></tr><tr><td>579961760</td><td>null</td><td>2023-05-22 17:13:27</td><td>28.0</td><td>null</td><td>2</td><td>[9773617, 9776315, … 9695098]</td><td>[9775900]</td><td>1748436</td><td>false</td><td>null</td><td>null</td><td>null</td><td>false</td><td>152438</td><td>6.0</td><td>100.0</td><td>[2023-04-27 09:40:01, 2023-04-27 09:40:29, … 2023-05-18 06:09:01]</td><td>[53.0, 32.0, … 100.0]</td><td>[9738569, 9736689, … 9763284]</td><td>[9.0, 3.0, … 63.0]</td></tr><tr><td>579981216</td><td>null</td><td>2023-05-22 08:47:05</td><td>36.0</td><td>null</td><td>2</td><td>[9775478, 9769624, … 9775701]</td><td>[9775347]</td><td>2046246</td><td>false</td><td>null</td><td>null</td><td>null</td><td>false</td><td>211219</td><td>36.0</td><td>94.0</td><td>[2023-05-02 20:48:32, 2023-05-02 20:49:04, … 2023-05-15 20:16:38]</td><td>[100.0, 45.0, … 26.0]</td><td>[9745668, 9746723, … 9766757]</td><td>[31.0, 21.0, … 9.0]</td></tr><tr><td>579983230</td><td>null</td><td>2023-05-22 08:30:52</td><td>35.0</td><td>null</td><td>1</td><td>[9775562, 9775701, … 9775648]</td><td>[9775562]</td><td>2053999</td><td>false</td><td>null</td><td>null</td><td>null</td><td>false</td><td>170832</td><td>7.0</td><td>28.0</td><td>[2023-04-27 07:21:29, 2023-04-27 07:21:46, … 2023-05-17 19:07:20]</td><td>[null, null, … 34.0]</td><td>[9737881, 9737657, … 9770207]</td><td>[6.0, 3.0, … 2.0]</td></tr><tr><td>579983231</td><td>null</td><td>2023-05-22 08:31:34</td><td>89.0</td><td>null</td><td>1</td><td>[9775347, 9678300, … 9774733]</td><td>[9775361]</td><td>2053999</td><td>false</td><td>null</td><td>null</td><td>null</td><td>false</td><td>170832</td><td>0.0</td><td>null</td><td>[2023-04-27 07:21:29, 2023-04-27 07:21:46, … 2023-05-17 19:07:20]</td><td>[null, null, … 34.0]</td><td>[9737881, 9737657, … 9770207]</td><td>[6.0, 3.0, … 2.0]</td></tr><tr><td>579984721</td><td>9774541</td><td>2023-05-22 08:51:33</td><td>123.0</td><td>100.0</td><td>2</td><td>[9775699, 9775722, … 9775325]</td><td>[9775699]</td><td>2060487</td><td>false</td><td>null</td><td>null</td><td>null</td><td>false</td><td>107303</td><td>73.0</td><td>100.0</td><td>[2023-04-27 09:48:24, 2023-04-27 09:48:36, … 2023-05-18 03:19:07]</td><td>[100.0, 51.0, … 67.0]</td><td>[9738557, 9737521, … 9769650]</td><td>[11.0, 6.0, … 23.0]</td></tr><tr><td>579984723</td><td>9775699</td><td>2023-05-22 08:53:36</td><td>73.0</td><td>100.0</td><td>2</td><td>[9772221, 9758424, … 9771197]</td><td>[9758424]</td><td>2060487</td><td>false</td><td>null</td><td>null</td><td>null</td><td>false</td><td>107303</td><td>101.0</td><td>100.0</td><td>[2023-04-27 09:48:24, 2023-04-27 09:48:36, … 2023-05-18 03:19:07]</td><td>[100.0, 51.0, … 67.0]</td><td>[9738557, 9737521, … 9769650]</td><td>[11.0, 6.0, … 23.0]</td></tr><tr><td>580097289</td><td>9770541</td><td>2023-05-18 10:56:49</td><td>107.0</td><td>100.0</td><td>1</td><td>[9657528, 9769356, … 9726171]</td><td>[9770369]</td><td>2096611</td><td>false</td><td>null</td><td>null</td><td>null</td><td>false</td><td>73638</td><td>73.0</td><td>7.0</td><td>[2023-04-29 05:22:16, 2023-04-29 05:23:41, … 2023-05-18 06:58:06]</td><td>[100.0, 9.0, … null]</td><td>[9740952, 9741218, … 9767697]</td><td>[64.0, 4.0, … 0.0]</td></tr></tbody></table></div>"
      ],
      "text/plain": [
       "shape: (24_724, 21)\n",
       "┌───────────┬───────────┬───────────┬───────────┬───┬───────────┬───────────┬───────────┬──────────┐\n",
       "│ impressio ┆ article_i ┆ impressio ┆ read_time ┆ … ┆ impressio ┆ scroll_pe ┆ article_i ┆ read_tim │\n",
       "│ n_id      ┆ d         ┆ n_time    ┆ ---       ┆   ┆ n_time_fi ┆ rcentage_ ┆ d_fixed   ┆ e_fixed  │\n",
       "│ ---       ┆ ---       ┆ ---       ┆ f32       ┆   ┆ xed       ┆ fixed     ┆ ---       ┆ ---      │\n",
       "│ u32       ┆ i32       ┆ datetime[ ┆           ┆   ┆ ---       ┆ ---       ┆ list[i32] ┆ list[f32 │\n",
       "│           ┆           ┆ μs]       ┆           ┆   ┆ list[date ┆ list[f32] ┆           ┆ ]        │\n",
       "│           ┆           ┆           ┆           ┆   ┆ time[μs]] ┆           ┆           ┆          │\n",
       "╞═══════════╪═══════════╪═══════════╪═══════════╪═══╪═══════════╪═══════════╪═══════════╪══════════╡\n",
       "│ 48401     ┆ null      ┆ 2023-05-2 ┆ 21.0      ┆ … ┆ [2023-04- ┆ [28.0,    ┆ [9738452, ┆ [5.0,    │\n",
       "│           ┆           ┆ 1         ┆           ┆   ┆ 27        ┆ 17.0, …   ┆ 9737521,  ┆ 4.0, …   │\n",
       "│           ┆           ┆ 21:06:50  ┆           ┆   ┆ 09:05:54, ┆ 15.0]     ┆ …         ┆ 7.0]     │\n",
       "│           ┆           ┆           ┆           ┆   ┆ 2023-04-2 ┆           ┆ 9770541]  ┆          │\n",
       "│           ┆           ┆           ┆           ┆   ┆ 7…        ┆           ┆           ┆          │\n",
       "│ 152513    ┆ 9778745   ┆ 2023-05-2 ┆ 30.0      ┆ … ┆ [2023-04- ┆ [100.0,   ┆ [9740087, ┆ [18.0,   │\n",
       "│           ┆           ┆ 4         ┆           ┆   ┆ 29        ┆ 49.0, …   ┆ 9741986,  ┆ 244.0, … │\n",
       "│           ┆           ┆ 07:31:26  ┆           ┆   ┆ 11:34:06, ┆ 24.0]     ┆ …         ┆ 7.0]     │\n",
       "│           ┆           ┆           ┆           ┆   ┆ 2023-04-2 ┆           ┆ 9735909]  ┆          │\n",
       "│           ┆           ┆           ┆           ┆   ┆ 9…        ┆           ┆           ┆          │\n",
       "│ 155390    ┆ null      ┆ 2023-05-2 ┆ 45.0      ┆ … ┆ [2023-04- ┆ [100.0,   ┆ [9738557, ┆ [583.0,  │\n",
       "│           ┆           ┆ 4         ┆           ┆   ┆ 27        ┆ 20.0, …   ┆ 9738211,  ┆ 257.0, … │\n",
       "│           ┆           ┆ 07:30:33  ┆           ┆   ┆ 09:10:33, ┆ 100.0]    ┆ …         ┆ 158.0]   │\n",
       "│           ┆           ┆           ┆           ┆   ┆ 2023-04-2 ┆           ┆ 9770178]  ┆          │\n",
       "│           ┆           ┆           ┆           ┆   ┆ 7…        ┆           ┆           ┆          │\n",
       "│ 214679    ┆ null      ┆ 2023-05-2 ┆ 33.0      ┆ … ┆ [2023-04- ┆ [100.0,   ┆ [9738777, ┆ [35.0,   │\n",
       "│           ┆           ┆ 3         ┆           ┆   ┆ 27        ┆ 100.0, …  ┆ 9738663,  ┆ 62.0, …  │\n",
       "│           ┆           ┆ 05:25:40  ┆           ┆   ┆ 12:12:45, ┆ 28.0]     ┆ …         ┆ 16.0]    │\n",
       "│           ┆           ┆           ┆           ┆   ┆ 2023-04-2 ┆           ┆ 9769981]  ┆          │\n",
       "│           ┆           ┆           ┆           ┆   ┆ 7…        ┆           ┆           ┆          │\n",
       "│ 214681    ┆ null      ┆ 2023-05-2 ┆ 21.0      ┆ … ┆ [2023-04- ┆ [100.0,   ┆ [9738777, ┆ [35.0,   │\n",
       "│           ┆           ┆ 3         ┆           ┆   ┆ 27        ┆ 100.0, …  ┆ 9738663,  ┆ 62.0, …  │\n",
       "│           ┆           ┆ 05:31:54  ┆           ┆   ┆ 12:12:45, ┆ 28.0]     ┆ …         ┆ 16.0]    │\n",
       "│           ┆           ┆           ┆           ┆   ┆ 2023-04-2 ┆           ┆ 9769981]  ┆          │\n",
       "│           ┆           ┆           ┆           ┆   ┆ 7…        ┆           ┆           ┆          │\n",
       "│ …         ┆ …         ┆ …         ┆ …         ┆ … ┆ …         ┆ …         ┆ …         ┆ …        │\n",
       "│ 579983230 ┆ null      ┆ 2023-05-2 ┆ 35.0      ┆ … ┆ [2023-04- ┆ [null,    ┆ [9737881, ┆ [6.0,    │\n",
       "│           ┆           ┆ 2         ┆           ┆   ┆ 27        ┆ null, …   ┆ 9737657,  ┆ 3.0, …   │\n",
       "│           ┆           ┆ 08:30:52  ┆           ┆   ┆ 07:21:29, ┆ 34.0]     ┆ …         ┆ 2.0]     │\n",
       "│           ┆           ┆           ┆           ┆   ┆ 2023-04-2 ┆           ┆ 9770207]  ┆          │\n",
       "│           ┆           ┆           ┆           ┆   ┆ 7…        ┆           ┆           ┆          │\n",
       "│ 579983231 ┆ null      ┆ 2023-05-2 ┆ 89.0      ┆ … ┆ [2023-04- ┆ [null,    ┆ [9737881, ┆ [6.0,    │\n",
       "│           ┆           ┆ 2         ┆           ┆   ┆ 27        ┆ null, …   ┆ 9737657,  ┆ 3.0, …   │\n",
       "│           ┆           ┆ 08:31:34  ┆           ┆   ┆ 07:21:29, ┆ 34.0]     ┆ …         ┆ 2.0]     │\n",
       "│           ┆           ┆           ┆           ┆   ┆ 2023-04-2 ┆           ┆ 9770207]  ┆          │\n",
       "│           ┆           ┆           ┆           ┆   ┆ 7…        ┆           ┆           ┆          │\n",
       "│ 579984721 ┆ 9774541   ┆ 2023-05-2 ┆ 123.0     ┆ … ┆ [2023-04- ┆ [100.0,   ┆ [9738557, ┆ [11.0,   │\n",
       "│           ┆           ┆ 2         ┆           ┆   ┆ 27        ┆ 51.0, …   ┆ 9737521,  ┆ 6.0, …   │\n",
       "│           ┆           ┆ 08:51:33  ┆           ┆   ┆ 09:48:24, ┆ 67.0]     ┆ …         ┆ 23.0]    │\n",
       "│           ┆           ┆           ┆           ┆   ┆ 2023-04-2 ┆           ┆ 9769650]  ┆          │\n",
       "│           ┆           ┆           ┆           ┆   ┆ 7…        ┆           ┆           ┆          │\n",
       "│ 579984723 ┆ 9775699   ┆ 2023-05-2 ┆ 73.0      ┆ … ┆ [2023-04- ┆ [100.0,   ┆ [9738557, ┆ [11.0,   │\n",
       "│           ┆           ┆ 2         ┆           ┆   ┆ 27        ┆ 51.0, …   ┆ 9737521,  ┆ 6.0, …   │\n",
       "│           ┆           ┆ 08:53:36  ┆           ┆   ┆ 09:48:24, ┆ 67.0]     ┆ …         ┆ 23.0]    │\n",
       "│           ┆           ┆           ┆           ┆   ┆ 2023-04-2 ┆           ┆ 9769650]  ┆          │\n",
       "│           ┆           ┆           ┆           ┆   ┆ 7…        ┆           ┆           ┆          │\n",
       "│ 580097289 ┆ 9770541   ┆ 2023-05-1 ┆ 107.0     ┆ … ┆ [2023-04- ┆ [100.0,   ┆ [9740952, ┆ [64.0,   │\n",
       "│           ┆           ┆ 8         ┆           ┆   ┆ 29        ┆ 9.0, …    ┆ 9741218,  ┆ 4.0, …   │\n",
       "│           ┆           ┆ 10:56:49  ┆           ┆   ┆ 05:22:16, ┆ null]     ┆ …         ┆ 0.0]     │\n",
       "│           ┆           ┆           ┆           ┆   ┆ 2023-04-2 ┆           ┆ 9767697]  ┆          │\n",
       "│           ┆           ┆           ┆           ┆   ┆ 9…        ┆           ┆           ┆          │\n",
       "└───────────┴───────────┴───────────┴───────────┴───┴───────────┴───────────┴───────────┴──────────┘"
      ]
     },
     "execution_count": 83,
     "metadata": {},
     "output_type": "execute_result"
    }
   ],
   "source": [
    "df = slice_join_dataframes(\n",
    "    df1=df_behaviors.collect(),\n",
    "    df2=df_history.collect(),\n",
    "    on=DEFAULT_USER_COL,\n",
    "    how=\"left\",\n",
    ")\n",
    "df"
   ]
  },
  {
   "cell_type": "markdown",
   "metadata": {},
   "source": [
    "## Generate labels"
   ]
  },
  {
   "cell_type": "markdown",
   "metadata": {},
   "source": [
    "Here's an example how to generate binary labels based on ``article_ids_clicked`` and ``article_ids_inview``"
   ]
  },
  {
   "cell_type": "code",
   "execution_count": 28,
   "metadata": {},
   "outputs": [
    {
     "data": {
      "text/html": [
       "<div><style>\n",
       ".dataframe > thead > tr,\n",
       ".dataframe > tbody > tr {\n",
       "  text-align: right;\n",
       "  white-space: pre-wrap;\n",
       "}\n",
       "</style>\n",
       "<small>shape: (5, 4)</small><table border=\"1\" class=\"dataframe\"><thead><tr><th>article_ids_clicked</th><th>article_ids_inview</th><th>labels</th><th>labels_len</th></tr><tr><td>list[i32]</td><td>list[i32]</td><td>list[i8]</td><td>u32</td></tr></thead><tbody><tr><td>[9759966]</td><td>[9142581, 9774461, … 9770028]</td><td>[0, 0, … 0]</td><td>11</td></tr><tr><td>[9778661]</td><td>[9778728, 9777397, … 9778657]</td><td>[0, 0, … 0]</td><td>17</td></tr><tr><td>[9777856]</td><td>[9778155, 9777856, … 9778226]</td><td>[0, 1, … 0]</td><td>11</td></tr><tr><td>[9776566]</td><td>[9776497, 9776071, … 9776855]</td><td>[0, 0, … 0]</td><td>9</td></tr><tr><td>[9776553]</td><td>[9771995, 9776570, … 9776246]</td><td>[0, 0, … 0]</td><td>18</td></tr></tbody></table></div>"
      ],
      "text/plain": [
       "shape: (5, 4)\n",
       "┌─────────────────────┬───────────────────────────────┬─────────────┬────────────┐\n",
       "│ article_ids_clicked ┆ article_ids_inview            ┆ labels      ┆ labels_len │\n",
       "│ ---                 ┆ ---                           ┆ ---         ┆ ---        │\n",
       "│ list[i32]           ┆ list[i32]                     ┆ list[i8]    ┆ u32        │\n",
       "╞═════════════════════╪═══════════════════════════════╪═════════════╪════════════╡\n",
       "│ [9759966]           ┆ [9142581, 9774461, … 9770028] ┆ [0, 0, … 0] ┆ 11         │\n",
       "│ [9778661]           ┆ [9778728, 9777397, … 9778657] ┆ [0, 0, … 0] ┆ 17         │\n",
       "│ [9777856]           ┆ [9778155, 9777856, … 9778226] ┆ [0, 1, … 0] ┆ 11         │\n",
       "│ [9776566]           ┆ [9776497, 9776071, … 9776855] ┆ [0, 0, … 0] ┆ 9          │\n",
       "│ [9776553]           ┆ [9771995, 9776570, … 9776246] ┆ [0, 0, … 0] ┆ 18         │\n",
       "└─────────────────────┴───────────────────────────────┴─────────────┴────────────┘"
      ]
     },
     "execution_count": 28,
     "metadata": {},
     "output_type": "execute_result"
    }
   ],
   "source": [
    "df.select(DEFAULT_CLICKED_ARTICLES_COL, DEFAULT_INVIEW_ARTICLES_COL).pipe(\n",
    "    create_binary_labels_column, shuffle=True, seed=123\n",
    ").with_columns(pl.col(\"labels\").list.len().name.suffix(\"_len\")).head(5)"
   ]
  },
  {
   "cell_type": "markdown",
   "metadata": {},
   "source": [
    "An example using the downsample strategy employed by Wu et al."
   ]
  },
  {
   "cell_type": "code",
   "execution_count": 29,
   "metadata": {},
   "outputs": [
    {
     "data": {
      "text/html": [
       "<div><style>\n",
       ".dataframe > thead > tr,\n",
       ".dataframe > tbody > tr {\n",
       "  text-align: right;\n",
       "  white-space: pre-wrap;\n",
       "}\n",
       "</style>\n",
       "<small>shape: (5, 4)</small><table border=\"1\" class=\"dataframe\"><thead><tr><th>article_ids_clicked</th><th>article_ids_inview</th><th>labels</th><th>labels_len</th></tr><tr><td>list[i64]</td><td>list[i64]</td><td>list[i8]</td><td>u32</td></tr></thead><tbody><tr><td>[9759966]</td><td>[9774461, 9775371, 9759966]</td><td>[0, 0, 1]</td><td>3</td></tr><tr><td>[9778661]</td><td>[9778661, 9777397, 9778682]</td><td>[1, 0, 0]</td><td>3</td></tr><tr><td>[9777856]</td><td>[9777856, 9778351, 9778448]</td><td>[1, 0, 0]</td><td>3</td></tr><tr><td>[9776566]</td><td>[9776566, 9776855, 9776808]</td><td>[1, 0, 0]</td><td>3</td></tr><tr><td>[9776553]</td><td>[9776449, 9776553, 9776570]</td><td>[0, 1, 0]</td><td>3</td></tr></tbody></table></div>"
      ],
      "text/plain": [
       "shape: (5, 4)\n",
       "┌─────────────────────┬─────────────────────────────┬───────────┬────────────┐\n",
       "│ article_ids_clicked ┆ article_ids_inview          ┆ labels    ┆ labels_len │\n",
       "│ ---                 ┆ ---                         ┆ ---       ┆ ---        │\n",
       "│ list[i64]           ┆ list[i64]                   ┆ list[i8]  ┆ u32        │\n",
       "╞═════════════════════╪═════════════════════════════╪═══════════╪════════════╡\n",
       "│ [9759966]           ┆ [9774461, 9775371, 9759966] ┆ [0, 0, 1] ┆ 3          │\n",
       "│ [9778661]           ┆ [9778661, 9777397, 9778682] ┆ [1, 0, 0] ┆ 3          │\n",
       "│ [9777856]           ┆ [9777856, 9778351, 9778448] ┆ [1, 0, 0] ┆ 3          │\n",
       "│ [9776566]           ┆ [9776566, 9776855, 9776808] ┆ [1, 0, 0] ┆ 3          │\n",
       "│ [9776553]           ┆ [9776449, 9776553, 9776570] ┆ [0, 1, 0] ┆ 3          │\n",
       "└─────────────────────┴─────────────────────────────┴───────────┴────────────┘"
      ]
     },
     "execution_count": 29,
     "metadata": {},
     "output_type": "execute_result"
    }
   ],
   "source": [
    "NPRATIO = 2\n",
    "df.select(DEFAULT_CLICKED_ARTICLES_COL, DEFAULT_INVIEW_ARTICLES_COL).pipe(\n",
    "    sampling_strategy_wu2019, npratio=NPRATIO, shuffle=False, with_replacement=True, seed=123\n",
    ").pipe(create_binary_labels_column, shuffle=True, seed=123).with_columns(pl.col(\"labels\").list.len().name.suffix(\"_len\")).head(5)"
   ]
  },
  {
   "cell_type": "code",
   "execution_count": null,
   "metadata": {},
   "outputs": [],
   "source": []
  }
 ],
 "metadata": {
  "kernelspec": {
   "display_name": "Python 3",
   "language": "python",
   "name": "python3"
  },
  "language_info": {
   "codemirror_mode": {
    "name": "ipython",
    "version": 3
   },
   "file_extension": ".py",
   "mimetype": "text/x-python",
   "name": "python",
   "nbconvert_exporter": "python",
   "pygments_lexer": "ipython3",
   "version": "3.11.5"
  }
 },
 "nbformat": 4,
 "nbformat_minor": 2
}
