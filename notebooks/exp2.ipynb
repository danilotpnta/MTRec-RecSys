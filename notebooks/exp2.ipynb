{
 "cells": [
  {
   "cell_type": "code",
   "execution_count": 3,
   "metadata": {},
   "outputs": [
    {
     "name": "stdout",
     "output_type": "stream",
     "text": [
      "The autoreload extension is already loaded. To reload it, use:\n",
      "  %reload_ext autoreload\n"
     ]
    }
   ],
   "source": [
    "%load_ext autoreload\n",
    "%autoreload 2\n",
    "from recsys.model import MultitaskRecommender\n",
    "from recsys.dataset import NewsDataModule\n",
    "\n",
    "if \"datamodule\" not in locals():\n",
    "    datamodule = NewsDataModule(\"../data\", batch_size=32)\n",
    "    datamodule.prepare_data()\n",
    "    datamodule.setup()\n",
    "\n",
    "model = MultitaskRecommender(768, n_categories=datamodule.train_dataset.max_categories)\n"
   ]
  },
  {
   "cell_type": "code",
   "execution_count": 4,
   "metadata": {},
   "outputs": [],
   "source": [
    "datamodule.setup('test')"
   ]
  },
  {
   "cell_type": "code",
   "execution_count": 48,
   "metadata": {},
   "outputs": [
    {
     "data": {
      "text/html": [
       "<div><style>\n",
       ".dataframe > thead > tr,\n",
       ".dataframe > tbody > tr {\n",
       "  text-align: right;\n",
       "  white-space: pre-wrap;\n",
       "}\n",
       "</style>\n",
       "<small>shape: (11_777, 8)</small><table border=\"1\" class=\"dataframe\"><thead><tr><th>article_id</th><th>title</th><th>body</th><th>subtitle</th><th>topics</th><th>category_str</th><th>tokens</th><th>category</th></tr><tr><td>i32</td><td>str</td><td>str</td><td>str</td><td>list[str]</td><td>cat</td><td>list[f32]</td><td>u32</td></tr></thead><tbody><tr><td>3037230</td><td>&quot;Ishockey-spill…</td><td>&quot;Ambitionerne o…</td><td>&quot;ISHOCKEY: Isho…</td><td>[&quot;Kriminalitet&quot;, &quot;Kendt&quot;, … &quot;Mindre ulykke&quot;]</td><td>&quot;sport&quot;</td><td>[0.111132, 0.119653, … -0.008356]</td><td>0</td></tr><tr><td>3044020</td><td>&quot;Prins Harry tv…</td><td>&quot;Den britiske t…</td><td>&quot;Hoffet tvang P…</td><td>[&quot;Kriminalitet&quot;, &quot;Kendt&quot;, … &quot;Personfarlig kriminalitet&quot;]</td><td>&quot;underholdning&quot;</td><td>[0.113472, 0.097556, … -0.016068]</td><td>1</td></tr><tr><td>3057622</td><td>&quot;Rådden kørsel …</td><td>&quot;Slingrende spr…</td><td>&quot;Kan ikke straf…</td><td>[&quot;Kriminalitet&quot;, &quot;Transportmiddel&quot;, &quot;Bil&quot;]</td><td>&quot;nyheder&quot;</td><td>[0.090726, 0.125526, … -0.011349]</td><td>2</td></tr><tr><td>3073151</td><td>&quot;Mærsk-arvinger…</td><td>&quot;To oldebørn af…</td><td>&quot;FANGET I FLODB…</td><td>[&quot;Erhverv&quot;, &quot;Privat virksomhed&quot;, … &quot;Rejse&quot;]</td><td>&quot;nyheder&quot;</td><td>[0.129573, 0.132865, … -0.009751]</td><td>2</td></tr><tr><td>3193383</td><td>&quot;Skød svigersøn…</td><td>&quot;En 44-årig mor…</td><td>&quot;44-årig kvinde…</td><td>[&quot;Kriminalitet&quot;, &quot;Personfarlig kriminalitet&quot;]</td><td>&quot;krimi&quot;</td><td>[0.108794, 0.100466, … 0.000001]</td><td>3</td></tr><tr><td>3196611</td><td>&quot;Zoo-tårnet 100…</td><td>&quot;I mange år var…</td><td>&quot;I mange år var…</td><td>[&quot;Kultur&quot;, &quot;Museum og seværdighed&quot;]</td><td>&quot;ferie&quot;</td><td>[0.072012, 0.091164, … -0.022664]</td><td>4</td></tr><tr><td>3200325</td><td>&quot;Tævet ihjel på…</td><td>&quot;.\n",
       "Skolepige vi…</td><td>&quot;Sadomasochisti…</td><td>[&quot;Kriminalitet&quot;, &quot;Livsstil&quot;, … &quot;Samfund&quot;]</td><td>&quot;krimi&quot;</td><td>[0.078218, 0.088103, … -0.005774]</td><td>3</td></tr><tr><td>3200913</td><td>&quot;Denne kæp kan …</td><td>&quot;Den usædvanlig…</td><td>&quot;Nye spor i den…</td><td>[&quot;Kriminalitet&quot;, &quot;Personfarlig kriminalitet&quot;]</td><td>&quot;krimi&quot;</td><td>[0.102053, 0.091178, … 0.007148]</td><td>3</td></tr><tr><td>3209311</td><td>&quot;Morder truer m…</td><td>&quot;En morder er i…</td><td>&quot;En morder er b…</td><td>[&quot;Kriminalitet&quot;, &quot;Personfarlig kriminalitet&quot;]</td><td>&quot;krimi&quot;</td><td>[0.090207, 0.10986, … -0.00269]</td><td>3</td></tr><tr><td>3209357</td><td>&quot;Pædofil må sta…</td><td>&quot;En 56-årig søn…</td><td>&quot;Lærer havde 70…</td><td>[&quot;Kriminalitet&quot;, &quot;Personfarlig kriminalitet&quot;, … &quot;Uddannelse&quot;]</td><td>&quot;krimi&quot;</td><td>[0.08073, 0.104327, … -0.00173]</td><td>3</td></tr><tr><td>3223114</td><td>&quot;Creamy-pige gr…</td><td>&quot;Tiden flyver. …</td><td>&quot;Rannva Joensen…</td><td>[&quot;Kendt&quot;, &quot;Livsstil&quot;, … &quot;Underholdning&quot;]</td><td>&quot;underholdning&quot;</td><td>[0.140567, 0.10767, … -0.039401]</td><td>1</td></tr><tr><td>3251664</td><td>&quot;Champagne-dren…</td><td>&quot;De kalder ham …</td><td>&quot;FODBOLD: Kim D…</td><td>[&quot;Kendt&quot;, &quot;Begivenhed&quot;, … &quot;Sportsbegivenhed&quot;]</td><td>&quot;sport&quot;</td><td>[0.141467, 0.141043, … -0.033625]</td><td>0</td></tr><tr><td>&hellip;</td><td>&hellip;</td><td>&hellip;</td><td>&hellip;</td><td>&hellip;</td><td>&hellip;</td><td>&hellip;</td><td>&hellip;</td></tr><tr><td>9803356</td><td>&quot;Medie: Steve B…</td><td>&quot;Steve Bannon, …</td><td>&quot;Ifølge flere k…</td><td>[&quot;Kriminalitet&quot;, &quot;Kendt&quot;, … &quot;International politik&quot;]</td><td>&quot;nyheder&quot;</td><td>[0.081857, 0.139164, … -0.005337]</td><td>2</td></tr><tr><td>9803384</td><td>&quot;Østrigsk polit…</td><td>&quot;Over 150 passa…</td><td>&quot;33 personer er…</td><td>[&quot;Transportmiddel&quot;, &quot;Katastrofe&quot;, … &quot;Større transportmiddel&quot;]</td><td>&quot;nyheder&quot;</td><td>[0.13067, 0.142589, … -0.003961]</td><td>2</td></tr><tr><td>9803399</td><td>&quot;Efter kraftig …</td><td>&quot;Politiet på Bo…</td><td>&quot;Tidligt torsda…</td><td>[&quot;Katastrofe&quot;, &quot;Mindre ulykke&quot;]</td><td>&quot;krimi&quot;</td><td>[0.112308, 0.152761, … 0.030787]</td><td>3</td></tr><tr><td>9803408</td><td>&quot;Fødevareminist…</td><td>&quot;I Danmark er d…</td><td>&quot;Jacob Jensen v…</td><td>[&quot;Erhverv&quot;, &quot;Politik&quot;, &quot;National politik&quot;]</td><td>&quot;nyheder&quot;</td><td>[0.094255, 0.127328, … 0.005607]</td><td>2</td></tr><tr><td>9803418</td><td>&quot;Denver bringer…</td><td>&quot;Denver Nuggets…</td><td>&quot;Nattens kamp b…</td><td>[&quot;Begivenhed&quot;, &quot;Sport&quot;, &quot;Sportsbegivenhed&quot;]</td><td>&quot;sport&quot;</td><td>[0.132331, 0.120168, … -0.014577]</td><td>0</td></tr><tr><td>9803453</td><td>&quot;Tåge fra morge…</td><td>&quot;Det er lillefr…</td><td>&quot;Skyer, tåge og…</td><td>[&quot;Transportmiddel&quot;, &quot;Bil&quot;, &quot;Vejr&quot;]</td><td>&quot;nyheder&quot;</td><td>[0.109545, 0.13542, … 0.052888]</td><td>2</td></tr><tr><td>9803455</td><td>&quot;S-bagland spek…</td><td>&quot;Socialdemokrat…</td><td>&quot;I en rundringn…</td><td>[&quot;Erhverv&quot;, &quot;Kendt&quot;, … &quot;National politik&quot;]</td><td>&quot;nyheder&quot;</td><td>[0.132264, 0.131548, … -0.016449]</td><td>2</td></tr><tr><td>9803492</td><td>&quot;Vilde billeder…</td><td>&quot;Det spyer med …</td><td>&quot;Der er gang i …</td><td>[&quot;Katastrofe&quot;, &quot;Vejr&quot;, &quot;Større katastrofe&quot;]</td><td>&quot;nyheder&quot;</td><td>[0.096722, 0.128322, … -0.00274]</td><td>2</td></tr><tr><td>9803505</td><td>&quot;Flyvende Anton…</td><td>&quot;Anders Antonse…</td><td>&quot;Verdens nummer…</td><td>[&quot;Kendt&quot;, &quot;Begivenhed&quot;, … &quot;Sportsbegivenhed&quot;]</td><td>&quot;sport&quot;</td><td>[0.11558, 0.105782, … -0.027851]</td><td>0</td></tr><tr><td>9803525</td><td>&quot;Dansk skuespil…</td><td>&quot;Mens hun lå sø…</td><td>&quot;Julie R. Ølgaa…</td><td>[&quot;Kendt&quot;, &quot;Livsstil&quot;, … &quot;Sygdom og behandling&quot;]</td><td>&quot;underholdning&quot;</td><td>[0.137623, 0.117912, … -0.018101]</td><td>1</td></tr><tr><td>9803560</td><td>&quot;Så slemt er de…</td><td>&quot;Et område på o…</td><td>&quot;Tusindvis af h…</td><td>[&quot;International politik&quot;, &quot;Katastrofe&quot;, … &quot;Politik&quot;]</td><td>&quot;nyheder&quot;</td><td>[0.14732, 0.117516, … 0.004811]</td><td>2</td></tr><tr><td>9803607</td><td>&quot;Aktion mod svi…</td><td>&quot;Mindst otte pe…</td><td>&quot;Flere kvinder …</td><td>[&quot;Kriminalitet&quot;, &quot;Bedrageri&quot;]</td><td>&quot;krimi&quot;</td><td>[0.115696, 0.116786, … -0.003788]</td><td>3</td></tr></tbody></table></div>"
      ],
      "text/plain": [
       "shape: (11_777, 8)\n",
       "┌────────────┬────────────┬────────────┬────────────┬───────────┬───────────┬───────────┬──────────┐\n",
       "│ article_id ┆ title      ┆ body       ┆ subtitle   ┆ topics    ┆ category_ ┆ tokens    ┆ category │\n",
       "│ ---        ┆ ---        ┆ ---        ┆ ---        ┆ ---       ┆ str       ┆ ---       ┆ ---      │\n",
       "│ i32        ┆ str        ┆ str        ┆ str        ┆ list[str] ┆ ---       ┆ list[f32] ┆ u32      │\n",
       "│            ┆            ┆            ┆            ┆           ┆ cat       ┆           ┆          │\n",
       "╞════════════╪════════════╪════════════╪════════════╪═══════════╪═══════════╪═══════════╪══════════╡\n",
       "│ 3037230    ┆ Ishockey-s ┆ Ambitioner ┆ ISHOCKEY:  ┆ [\"Krimina ┆ sport     ┆ [0.111132 ┆ 0        │\n",
       "│            ┆ piller:    ┆ ne om at   ┆ Ishockey-s ┆ litet\",   ┆           ┆ ,         ┆          │\n",
       "│            ┆ Jeg troede ┆ komme til  ┆ pilleren   ┆ \"Kendt\",  ┆           ┆ 0.119653, ┆          │\n",
       "│            ┆ jeg…       ┆ USA…       ┆ Seb…       ┆ … \"Min…   ┆           ┆ … -0.0083 ┆          │\n",
       "│            ┆            ┆            ┆            ┆           ┆           ┆ 56…       ┆          │\n",
       "│ 3044020    ┆ Prins      ┆ Den        ┆ Hoffet     ┆ [\"Krimina ┆ underhold ┆ [0.113472 ┆ 1        │\n",
       "│            ┆ Harry      ┆ britiske   ┆ tvang      ┆ litet\",   ┆ ning      ┆ ,         ┆          │\n",
       "│            ┆ tvunget    ┆ tabloidavi ┆ Prins      ┆ \"Kendt\",  ┆           ┆ 0.097556, ┆          │\n",
       "│            ┆ til        ┆ s The Sun… ┆ Harry til  ┆ … \"Per…   ┆           ┆ … -0.0160 ┆          │\n",
       "│            ┆ dna-test   ┆            ┆ at …       ┆           ┆           ┆ 68…       ┆          │\n",
       "│ 3057622    ┆ Rådden     ┆ Slingrende ┆ Kan ikke   ┆ [\"Krimina ┆ nyheder   ┆ [0.090726 ┆ 2        │\n",
       "│            ┆ kørsel på  ┆ spritkørse ┆ straffes:  ┆ litet\",   ┆           ┆ ,         ┆          │\n",
       "│            ┆ blå plader ┆ l. Grove   ┆ Udenlandsk ┆ \"Transpor ┆           ┆ 0.125526, ┆          │\n",
       "│            ┆            ┆ ov…        ┆ e d…       ┆ tmidde…   ┆           ┆ … -0.0113 ┆          │\n",
       "│            ┆            ┆            ┆            ┆           ┆           ┆ 49…       ┆          │\n",
       "│ 3073151    ┆ Mærsk-arvi ┆ To         ┆ FANGET I   ┆ [\"Erhverv ┆ nyheder   ┆ [0.129573 ┆ 2        │\n",
       "│            ┆ nger i     ┆ oldebørn   ┆ FLODBØLGEN ┆ \",        ┆           ┆ ,         ┆          │\n",
       "│            ┆ livsfare   ┆ af         ┆ : Skibsred ┆ \"Privat   ┆           ┆ 0.132865, ┆          │\n",
       "│            ┆            ┆ skibsreder ┆ ere…       ┆ virksomhe ┆           ┆ … -0.0097 ┆          │\n",
       "│            ┆            ┆ Mærsk …    ┆            ┆ d\",…      ┆           ┆ 51…       ┆          │\n",
       "│ 3193383    ┆ Skød       ┆ En 44-årig ┆ 44-årig    ┆ [\"Krimina ┆ krimi     ┆ [0.108794 ┆ 3        │\n",
       "│            ┆ svigersøn  ┆ mormor     ┆ kvinde     ┆ litet\",   ┆           ┆ ,         ┆          │\n",
       "│            ┆ gennem     ┆ blev i dag ┆ tiltalt    ┆ \"Personfa ┆           ┆ 0.100466, ┆          │\n",
       "│            ┆ babydyne   ┆ fre…       ┆ for drab … ┆ rlig k…   ┆           ┆ …         ┆          │\n",
       "│            ┆            ┆            ┆            ┆           ┆           ┆ 0.000001] ┆          │\n",
       "│ …          ┆ …          ┆ …          ┆ …          ┆ …         ┆ …         ┆ …         ┆ …        │\n",
       "│ 9803492    ┆ Vilde      ┆ Det spyer  ┆ Der er     ┆ [\"Katastr ┆ nyheder   ┆ [0.096722 ┆ 2        │\n",
       "│            ┆ billeder:  ┆ med lava   ┆ gang i     ┆ ofe\",     ┆           ┆ ,         ┆          │\n",
       "│            ┆ Vulkan i   ┆ fra        ┆ vulkanen   ┆ \"Vejr\",   ┆           ┆ 0.128322, ┆          │\n",
       "│            ┆ udbrud …   ┆ vulkanen … ┆ på Hawaii… ┆ \"Større   ┆           ┆ …         ┆          │\n",
       "│            ┆            ┆            ┆            ┆ k…        ┆           ┆ -0.00274] ┆          │\n",
       "│ 9803505    ┆ Flyvende   ┆ Anders     ┆ Verdens    ┆ [\"Kendt\", ┆ sport     ┆ [0.11558, ┆ 0        │\n",
       "│            ┆ Antonsen   ┆ Antonsen   ┆ nummer     ┆ \"Begivenh ┆           ┆ 0.105782, ┆          │\n",
       "│            ┆ knuser     ┆ har holdt  ┆ syv, Chou  ┆ ed\", …    ┆           ┆ … -0.0278 ┆          │\n",
       "│            ┆ topspil…   ┆ pause …    ┆ Tien-Ch…   ┆ \"Sport…   ┆           ┆ 51]       ┆          │\n",
       "│ 9803525    ┆ Dansk skue ┆ Mens hun   ┆ Julie R.   ┆ [\"Kendt\", ┆ underhold ┆ [0.137623 ┆ 1        │\n",
       "│            ┆ spiller: - ┆ lå         ┆ Ølgaard    ┆ \"Livsstil ┆ ning      ┆ ,         ┆          │\n",
       "│            ┆ Jeg        ┆ søvnløs,   ┆ fik akut   ┆ \", …      ┆           ┆ 0.117912, ┆          │\n",
       "│            ┆ nægtede…   ┆ lød        ┆ kejser…    ┆ \"Sygdom … ┆           ┆ … -0.0181 ┆          │\n",
       "│            ┆            ┆ kakofon…   ┆            ┆           ┆           ┆ 01…       ┆          │\n",
       "│ 9803560    ┆ Så slemt   ┆ Et område  ┆ Tusindvis  ┆ [\"Interna ┆ nyheder   ┆ [0.14732, ┆ 2        │\n",
       "│            ┆ er det:    ┆ på omkring ┆ af huse    ┆ tional    ┆           ┆ 0.117516, ┆          │\n",
       "│            ┆ 14.000     ┆ 600        ┆ står under ┆ politik\", ┆           ┆ …         ┆          │\n",
       "│            ┆ huse er …  ┆ kvadrat…   ┆ van…       ┆ \"Katas…   ┆           ┆ 0.004811] ┆          │\n",
       "│ 9803607    ┆ Aktion mod ┆ Mindst     ┆ Flere      ┆ [\"Krimina ┆ krimi     ┆ [0.115696 ┆ 3        │\n",
       "│            ┆ svindlere: ┆ otte       ┆ kvinder er ┆ litet\",   ┆           ┆ ,         ┆          │\n",
       "│            ┆ Seks       ┆ personer   ┆ ifølge     ┆ \"Bedrager ┆           ┆ 0.116786, ┆          │\n",
       "│            ┆ perso…     ┆ er blevet  ┆ politiet…  ┆ i\"]       ┆           ┆ … -0.0037 ┆          │\n",
       "│            ┆            ┆ a…         ┆            ┆           ┆           ┆ 88…       ┆          │\n",
       "└────────────┴────────────┴────────────┴────────────┴───────────┴───────────┴───────────┴──────────┘"
      ]
     },
     "execution_count": 48,
     "metadata": {},
     "output_type": "execute_result"
    }
   ],
   "source": [
    "from ebrec.utils._constants import DEFAULT_CATEGORY_COL, DEFAULT_CATEGORY_STR_COL\n",
    "\n",
    "datamodule.train_dataset.articles.cast({DEFAULT_CATEGORY_STR_COL: pl.Categorical}).with_columns(pl.col(DEFAULT_CATEGORY_STR_COL).to_physical().alias(DEFAULT_CATEGORY_COL))"
   ]
  },
  {
   "cell_type": "code",
   "execution_count": 25,
   "metadata": {},
   "outputs": [
    {
     "ename": "AttributeError",
     "evalue": "'PolarsDataFrameWrapper' object has no attribute 'dataframe'",
     "output_type": "error",
     "traceback": [
      "\u001b[0;31m---------------------------------------------------------------------------\u001b[0m",
      "\u001b[0;31mAttributeError\u001b[0m                            Traceback (most recent call last)",
      "Cell \u001b[0;32mIn[25], line 1\u001b[0m\n\u001b[0;32m----> 1\u001b[0m \u001b[38;5;28;43mself\u001b[39;49m\u001b[38;5;241;43m.\u001b[39;49m\u001b[43mdata\u001b[49m\u001b[43m[\u001b[49m\u001b[38;5;241;43m0\u001b[39;49m\u001b[43m:\u001b[49m\u001b[38;5;241;43m5\u001b[39;49m\u001b[43m]\u001b[49m\n",
      "File \u001b[0;32m~/project/MTRec-RecSys/src/recsys/utils/classes.py:32\u001b[0m, in \u001b[0;36mPolarsDataFrameWrapper.__getitem__\u001b[0;34m(self, key)\u001b[0m\n\u001b[1;32m     30\u001b[0m length \u001b[38;5;241m=\u001b[39m stop \u001b[38;5;241m-\u001b[39m start\n\u001b[1;32m     31\u001b[0m \u001b[38;5;28;01mif\u001b[39;00m step \u001b[38;5;129;01mis\u001b[39;00m \u001b[38;5;28;01mNone\u001b[39;00m \u001b[38;5;129;01mor\u001b[39;00m step \u001b[38;5;241m==\u001b[39m \u001b[38;5;241m1\u001b[39m:\n\u001b[0;32m---> 32\u001b[0m     \u001b[38;5;28;01mreturn\u001b[39;00m \u001b[38;5;28;43mself\u001b[39;49m\u001b[38;5;241;43m.\u001b[39;49m\u001b[43mdataframe\u001b[49m\u001b[38;5;241m.\u001b[39mslice(start, length)\n\u001b[1;32m     33\u001b[0m \u001b[38;5;28;01melse\u001b[39;00m:\n\u001b[1;32m     34\u001b[0m     \u001b[38;5;66;03m# For steps other than 1, use take with a list of indices\u001b[39;00m\n\u001b[1;32m     35\u001b[0m     indices \u001b[38;5;241m=\u001b[39m \u001b[38;5;28mrange\u001b[39m(start, stop, step)\n",
      "\u001b[0;31mAttributeError\u001b[0m: 'PolarsDataFrameWrapper' object has no attribute 'dataframe'"
     ]
    }
   ],
   "source": []
  },
  {
   "cell_type": "code",
   "execution_count": 50,
   "metadata": {},
   "outputs": [
    {
     "data": {
      "text/plain": [
       "tensor(0.7424)"
      ]
     },
     "execution_count": 50,
     "metadata": {},
     "output_type": "execute_result"
    }
   ],
   "source": [
    "scores = model.predictions[0]\n",
    "labels = model.labels[0]\n",
    "from torch.nn import functional as F\n",
    "\n",
    "F.binary_cross_entropy_with_logits(model.predictions[0], model.labels[0].float())"
   ]
  },
  {
   "cell_type": "code",
   "execution_count": 95,
   "metadata": {},
   "outputs": [
    {
     "name": "stdout",
     "output_type": "stream",
     "text": [
      "torch.Size([5, 5])\n",
      "torch.Size([5, 5])\n"
     ]
    },
    {
     "ename": "RuntimeError",
     "evalue": "Expected floating point type for target with class probabilities, got Long",
     "output_type": "error",
     "traceback": [
      "\u001b[0;31m---------------------------------------------------------------------------\u001b[0m",
      "\u001b[0;31mRuntimeError\u001b[0m                              Traceback (most recent call last)",
      "Cell \u001b[0;32mIn[95], line 4\u001b[0m\n\u001b[1;32m      1\u001b[0m \u001b[38;5;28mprint\u001b[39m(scores\u001b[38;5;241m.\u001b[39mshape) \u001b[38;5;66;03m# (batch_size, candidates)\u001b[39;00m\n\u001b[1;32m      2\u001b[0m \u001b[38;5;28mprint\u001b[39m(labels\u001b[38;5;241m.\u001b[39mshape) \u001b[38;5;66;03m# (batch_size, candidates)\u001b[39;00m\n\u001b[0;32m----> 4\u001b[0m loss \u001b[38;5;241m=\u001b[39m \u001b[43mF\u001b[49m\u001b[38;5;241;43m.\u001b[39;49m\u001b[43mcross_entropy\u001b[49m\u001b[43m(\u001b[49m\u001b[43mscores\u001b[49m\u001b[43m,\u001b[49m\u001b[43m \u001b[49m\u001b[43mlabels\u001b[49m\u001b[43m)\u001b[49m\n\u001b[1;32m      5\u001b[0m \u001b[38;5;28mprint\u001b[39m(loss)\n",
      "File \u001b[0;32m~/project/MTRec-RecSys/.venv/lib/python3.11/site-packages/torch/nn/functional.py:3059\u001b[0m, in \u001b[0;36mcross_entropy\u001b[0;34m(input, target, weight, size_average, ignore_index, reduce, reduction, label_smoothing)\u001b[0m\n\u001b[1;32m   3057\u001b[0m \u001b[38;5;28;01mif\u001b[39;00m size_average \u001b[38;5;129;01mis\u001b[39;00m \u001b[38;5;129;01mnot\u001b[39;00m \u001b[38;5;28;01mNone\u001b[39;00m \u001b[38;5;129;01mor\u001b[39;00m reduce \u001b[38;5;129;01mis\u001b[39;00m \u001b[38;5;129;01mnot\u001b[39;00m \u001b[38;5;28;01mNone\u001b[39;00m:\n\u001b[1;32m   3058\u001b[0m     reduction \u001b[38;5;241m=\u001b[39m _Reduction\u001b[38;5;241m.\u001b[39mlegacy_get_string(size_average, reduce)\n\u001b[0;32m-> 3059\u001b[0m \u001b[38;5;28;01mreturn\u001b[39;00m \u001b[43mtorch\u001b[49m\u001b[38;5;241;43m.\u001b[39;49m\u001b[43m_C\u001b[49m\u001b[38;5;241;43m.\u001b[39;49m\u001b[43m_nn\u001b[49m\u001b[38;5;241;43m.\u001b[39;49m\u001b[43mcross_entropy_loss\u001b[49m\u001b[43m(\u001b[49m\u001b[38;5;28;43minput\u001b[39;49m\u001b[43m,\u001b[49m\u001b[43m \u001b[49m\u001b[43mtarget\u001b[49m\u001b[43m,\u001b[49m\u001b[43m \u001b[49m\u001b[43mweight\u001b[49m\u001b[43m,\u001b[49m\u001b[43m \u001b[49m\u001b[43m_Reduction\u001b[49m\u001b[38;5;241;43m.\u001b[39;49m\u001b[43mget_enum\u001b[49m\u001b[43m(\u001b[49m\u001b[43mreduction\u001b[49m\u001b[43m)\u001b[49m\u001b[43m,\u001b[49m\u001b[43m \u001b[49m\u001b[43mignore_index\u001b[49m\u001b[43m,\u001b[49m\u001b[43m \u001b[49m\u001b[43mlabel_smoothing\u001b[49m\u001b[43m)\u001b[49m\n",
      "\u001b[0;31mRuntimeError\u001b[0m: Expected floating point type for target with class probabilities, got Long"
     ]
    }
   ],
   "source": [
    "print(scores.shape) # (batch_size, candidates)\n",
    "print(labels.shape) # (batch_size, candidates)\n",
    "\n",
    "# loss = F.cross_entropy(scores, labels)\n",
    "# print(loss)"
   ]
  },
  {
   "cell_type": "code",
   "execution_count": 56,
   "metadata": {},
   "outputs": [
    {
     "data": {
      "text/plain": [
       "tensor([[1, 0, 0, 0, 0],\n",
       "        [0, 0, 1, 0, 1],\n",
       "        [0, 1, 0, 0, 0],\n",
       "        [0, 0, 0, 1, 0],\n",
       "        [0, 0, 0, 0, 0]])"
      ]
     },
     "execution_count": 56,
     "metadata": {},
     "output_type": "execute_result"
    }
   ],
   "source": [
    "model.labels[0].T"
   ]
  }
 ],
 "metadata": {
  "kernelspec": {
   "display_name": ".venv",
   "language": "python",
   "name": "python3"
  },
  "language_info": {
   "codemirror_mode": {
    "name": "ipython",
    "version": 3
   },
   "file_extension": ".py",
   "mimetype": "text/x-python",
   "name": "python",
   "nbconvert_exporter": "python",
   "pygments_lexer": "ipython3",
   "version": "3.11.8"
  }
 },
 "nbformat": 4,
 "nbformat_minor": 2
}
